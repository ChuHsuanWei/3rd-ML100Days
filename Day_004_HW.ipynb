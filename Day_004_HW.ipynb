{
 "cells": [
  {
   "cell_type": "markdown",
   "metadata": {},
   "source": [
    "## 練習時間\n",
    "資料的操作有很多，接下來的馬拉松中我們會介紹常被使用到的操作，參加者不妨先自行想像一下，第一次看到資料，我們一般會想知道什麼訊息？\n",
    "\n",
    "#### Ex: 如何知道資料的 row 數以及 column 數、有什麼欄位、多少欄位、如何截取部分的資料等等\n",
    "\n",
    "有了對資料的好奇之後，我們又怎麼通過程式碼來達成我們的目的呢？\n",
    "\n",
    "#### 可參考該[基礎教材](https://bookdata.readthedocs.io/en/latest/base/01_pandas.html#DataFrame-%E5%85%A5%E9%97%A8)或自行 google"
   ]
  },
  {
   "cell_type": "markdown",
   "metadata": {},
   "source": [
    "# [作業目標]\n",
    "- 熟悉更多的 Python 資料操作"
   ]
  },
  {
   "cell_type": "markdown",
   "metadata": {},
   "source": [
    "# [作業重點]\n",
    "- 列出資料的大小 (In[4], Hint : shape)\n",
    "- 列出所有欄位 (In[5], 有多種寫法)\n",
    "- 擷取部分資料 (In[6], Hint : loc 或 iloc)"
   ]
  },
  {
   "cell_type": "code",
   "execution_count": 64,
   "metadata": {},
   "outputs": [],
   "source": [
    "import os\n",
    "import numpy as np\n",
    "import pandas as pd"
   ]
  },
  {
   "cell_type": "code",
   "execution_count": 65,
   "metadata": {},
   "outputs": [],
   "source": [
    "# 設定 data_path\n",
    "dir_data = './data/'"
   ]
  },
  {
   "cell_type": "code",
   "execution_count": 66,
   "metadata": {},
   "outputs": [
    {
     "name": "stdout",
     "output_type": "stream",
     "text": [
      "Path of read in data: ./data/application_train.csv\n"
     ]
    }
   ],
   "source": [
    "f_app = os.path.join(dir_data, 'application_train.csv')\n",
    "print('Path of read in data: %s' % (f_app))\n",
    "app_train = pd.read_csv(f_app)"
   ]
  },
  {
   "cell_type": "markdown",
   "metadata": {},
   "source": [
    "### 如果沒有想法，可以先嘗試找出剛剛例子中提到的問題的答案\n",
    "#### 資料的 row 數以及 column 數"
   ]
  },
  {
   "cell_type": "code",
   "execution_count": 67,
   "metadata": {},
   "outputs": [
    {
     "name": "stdout",
     "output_type": "stream",
     "text": [
      "rows: 307511\n",
      "columns: 122\n"
     ]
    }
   ],
   "source": [
    "print(\"rows:\",app_train.shape[0])\n",
    "print(\"columns:\",app_train.shape[1])"
   ]
  },
  {
   "cell_type": "markdown",
   "metadata": {},
   "source": [
    "#### 列出所有欄位"
   ]
  },
  {
   "cell_type": "code",
   "execution_count": 68,
   "metadata": {},
   "outputs": [
    {
     "name": "stdout",
     "output_type": "stream",
     "text": [
      "1 : SK_ID_CURR\n",
      "2 : TARGET\n",
      "3 : NAME_CONTRACT_TYPE\n",
      "4 : CODE_GENDER\n",
      "5 : FLAG_OWN_CAR\n",
      "6 : FLAG_OWN_REALTY\n",
      "7 : CNT_CHILDREN\n",
      "8 : AMT_INCOME_TOTAL\n",
      "9 : AMT_CREDIT\n",
      "10 : AMT_ANNUITY\n",
      "11 : AMT_GOODS_PRICE\n",
      "12 : NAME_TYPE_SUITE\n",
      "13 : NAME_INCOME_TYPE\n",
      "14 : NAME_EDUCATION_TYPE\n",
      "15 : NAME_FAMILY_STATUS\n",
      "16 : NAME_HOUSING_TYPE\n",
      "17 : REGION_POPULATION_RELATIVE\n",
      "18 : DAYS_BIRTH\n",
      "19 : DAYS_EMPLOYED\n",
      "20 : DAYS_REGISTRATION\n",
      "21 : DAYS_ID_PUBLISH\n",
      "22 : OWN_CAR_AGE\n",
      "23 : FLAG_MOBIL\n",
      "24 : FLAG_EMP_PHONE\n",
      "25 : FLAG_WORK_PHONE\n",
      "26 : FLAG_CONT_MOBILE\n",
      "27 : FLAG_PHONE\n",
      "28 : FLAG_EMAIL\n",
      "29 : OCCUPATION_TYPE\n",
      "30 : CNT_FAM_MEMBERS\n",
      "31 : REGION_RATING_CLIENT\n",
      "32 : REGION_RATING_CLIENT_W_CITY\n",
      "33 : WEEKDAY_APPR_PROCESS_START\n",
      "34 : HOUR_APPR_PROCESS_START\n",
      "35 : REG_REGION_NOT_LIVE_REGION\n",
      "36 : REG_REGION_NOT_WORK_REGION\n",
      "37 : LIVE_REGION_NOT_WORK_REGION\n",
      "38 : REG_CITY_NOT_LIVE_CITY\n",
      "39 : REG_CITY_NOT_WORK_CITY\n",
      "40 : LIVE_CITY_NOT_WORK_CITY\n",
      "41 : ORGANIZATION_TYPE\n",
      "42 : EXT_SOURCE_1\n",
      "43 : EXT_SOURCE_2\n",
      "44 : EXT_SOURCE_3\n",
      "45 : APARTMENTS_AVG\n",
      "46 : BASEMENTAREA_AVG\n",
      "47 : YEARS_BEGINEXPLUATATION_AVG\n",
      "48 : YEARS_BUILD_AVG\n",
      "49 : COMMONAREA_AVG\n",
      "50 : ELEVATORS_AVG\n",
      "51 : ENTRANCES_AVG\n",
      "52 : FLOORSMAX_AVG\n",
      "53 : FLOORSMIN_AVG\n",
      "54 : LANDAREA_AVG\n",
      "55 : LIVINGAPARTMENTS_AVG\n",
      "56 : LIVINGAREA_AVG\n",
      "57 : NONLIVINGAPARTMENTS_AVG\n",
      "58 : NONLIVINGAREA_AVG\n",
      "59 : APARTMENTS_MODE\n",
      "60 : BASEMENTAREA_MODE\n",
      "61 : YEARS_BEGINEXPLUATATION_MODE\n",
      "62 : YEARS_BUILD_MODE\n",
      "63 : COMMONAREA_MODE\n",
      "64 : ELEVATORS_MODE\n",
      "65 : ENTRANCES_MODE\n",
      "66 : FLOORSMAX_MODE\n",
      "67 : FLOORSMIN_MODE\n",
      "68 : LANDAREA_MODE\n",
      "69 : LIVINGAPARTMENTS_MODE\n",
      "70 : LIVINGAREA_MODE\n",
      "71 : NONLIVINGAPARTMENTS_MODE\n",
      "72 : NONLIVINGAREA_MODE\n",
      "73 : APARTMENTS_MEDI\n",
      "74 : BASEMENTAREA_MEDI\n",
      "75 : YEARS_BEGINEXPLUATATION_MEDI\n",
      "76 : YEARS_BUILD_MEDI\n",
      "77 : COMMONAREA_MEDI\n",
      "78 : ELEVATORS_MEDI\n",
      "79 : ENTRANCES_MEDI\n",
      "80 : FLOORSMAX_MEDI\n",
      "81 : FLOORSMIN_MEDI\n",
      "82 : LANDAREA_MEDI\n",
      "83 : LIVINGAPARTMENTS_MEDI\n",
      "84 : LIVINGAREA_MEDI\n",
      "85 : NONLIVINGAPARTMENTS_MEDI\n",
      "86 : NONLIVINGAREA_MEDI\n",
      "87 : FONDKAPREMONT_MODE\n",
      "88 : HOUSETYPE_MODE\n",
      "89 : TOTALAREA_MODE\n",
      "90 : WALLSMATERIAL_MODE\n",
      "91 : EMERGENCYSTATE_MODE\n",
      "92 : OBS_30_CNT_SOCIAL_CIRCLE\n",
      "93 : DEF_30_CNT_SOCIAL_CIRCLE\n",
      "94 : OBS_60_CNT_SOCIAL_CIRCLE\n",
      "95 : DEF_60_CNT_SOCIAL_CIRCLE\n",
      "96 : DAYS_LAST_PHONE_CHANGE\n",
      "97 : FLAG_DOCUMENT_2\n",
      "98 : FLAG_DOCUMENT_3\n",
      "99 : FLAG_DOCUMENT_4\n",
      "100 : FLAG_DOCUMENT_5\n",
      "101 : FLAG_DOCUMENT_6\n",
      "102 : FLAG_DOCUMENT_7\n",
      "103 : FLAG_DOCUMENT_8\n",
      "104 : FLAG_DOCUMENT_9\n",
      "105 : FLAG_DOCUMENT_10\n",
      "106 : FLAG_DOCUMENT_11\n",
      "107 : FLAG_DOCUMENT_12\n",
      "108 : FLAG_DOCUMENT_13\n",
      "109 : FLAG_DOCUMENT_14\n",
      "110 : FLAG_DOCUMENT_15\n",
      "111 : FLAG_DOCUMENT_16\n",
      "112 : FLAG_DOCUMENT_17\n",
      "113 : FLAG_DOCUMENT_18\n",
      "114 : FLAG_DOCUMENT_19\n",
      "115 : FLAG_DOCUMENT_20\n",
      "116 : FLAG_DOCUMENT_21\n",
      "117 : AMT_REQ_CREDIT_BUREAU_HOUR\n",
      "118 : AMT_REQ_CREDIT_BUREAU_DAY\n",
      "119 : AMT_REQ_CREDIT_BUREAU_WEEK\n",
      "120 : AMT_REQ_CREDIT_BUREAU_MON\n",
      "121 : AMT_REQ_CREDIT_BUREAU_QRT\n",
      "122 : AMT_REQ_CREDIT_BUREAU_YEAR\n"
     ]
    }
   ],
   "source": [
    "title_list = app_train.columns\n",
    "\n",
    "for i in range(len(title_list)):\n",
    "    print(i+1,\":\",title_list[i])\n"
   ]
  },
  {
   "cell_type": "markdown",
   "metadata": {},
   "source": [
    "#### 截取部分資料"
   ]
  },
  {
   "cell_type": "code",
   "execution_count": 96,
   "metadata": {},
   "outputs": [
    {
     "name": "stdout",
     "output_type": "stream",
     "text": [
      "    SK_ID_CURR  TARGET NAME_CONTRACT_TYPE CODE_GENDER FLAG_OWN_CAR\n",
      "6       100009       0         Cash loans           F            Y\n",
      "7       100010       0         Cash loans           M            Y\n",
      "8       100011       0         Cash loans           F            N\n",
      "9       100012       0    Revolving loans           M            N\n",
      "10      100014       0         Cash loans           F            N\n"
     ]
    }
   ],
   "source": [
    "partial_data_list=app_train.iloc[6:11,0:5]\n",
    "print(partial_data_list)\n",
    "\n"
   ]
  },
  {
   "cell_type": "markdown",
   "metadata": {},
   "source": [
    "#### 還有各種數之不盡的資料操作，重點還是取決於實務中遇到的狀況和你想問的問題，在馬拉松中我們也會陸續提到更多例子"
   ]
  },
  {
   "cell_type": "code",
   "execution_count": null,
   "metadata": {},
   "outputs": [],
   "source": []
  }
 ],
 "metadata": {
  "kernelspec": {
   "display_name": "Python 3",
   "language": "python",
   "name": "python3"
  },
  "language_info": {
   "codemirror_mode": {
    "name": "ipython",
    "version": 3
   },
   "file_extension": ".py",
   "mimetype": "text/x-python",
   "name": "python",
   "nbconvert_exporter": "python",
   "pygments_lexer": "ipython3",
   "version": "3.6.5"
  }
 },
 "nbformat": 4,
 "nbformat_minor": 2
}
