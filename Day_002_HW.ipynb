{
 "cells": [
  {
   "cell_type": "markdown",
   "metadata": {},
   "source": [
    "## [作業目標]\n",
    "了解機器學習適合應用的領域與範疇。"
   ]
  },
  {
   "cell_type": "markdown",
   "metadata": {},
   "source": [
    "## [作業重點]\n",
    "透過瞭解機器學習的運作方式，找出非常適用機器學習應用的領域及其原因"
   ]
  },
  {
   "cell_type": "markdown",
   "metadata": {},
   "source": [
    "## 作業\n",
    "請找出一個你認為機器學習可以發光發熱的領域並闡述原因? \n",
    "\n",
    "   Ans: 生技醫療領域。原因如下：\n",
    "        1. 資料來源穩定、品質可靠。由醫療院所、研發中心各項儀器設備，取得結構化的資料、影像、聲音等。\n",
    "        2. 疾病、病毒不斷更新，搶救生命也需跟時間賽跑。人類需要機器學習、深度學習來補足有限的時間與人力。\n",
    "        3. 過去問診需靠醫生的經驗與學識，才有所謂名醫的出現；\n",
    "           機器學習可讓醫療人員除了自身經驗之外，如同有個經驗豐富的醫生協同會診，彌補人腦有可能考量不夠全面的問題。"
   ]
  }
 ],
 "metadata": {
  "kernelspec": {
   "display_name": "Python 3",
   "language": "python",
   "name": "python3"
  },
  "language_info": {
   "codemirror_mode": {
    "name": "ipython",
    "version": 3
   },
   "file_extension": ".py",
   "mimetype": "text/x-python",
   "name": "python",
   "nbconvert_exporter": "python",
   "pygments_lexer": "ipython3",
   "version": "3.6.5"
  }
 },
 "nbformat": 4,
 "nbformat_minor": 2
}
